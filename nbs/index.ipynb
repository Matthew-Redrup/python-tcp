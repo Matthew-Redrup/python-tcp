{
 "cells": [
  {
   "cell_type": "code",
   "execution_count": null,
   "metadata": {},
   "outputs": [],
   "source": [
    "#| hide\n",
    "from python_tcp.core import *"
   ]
  },
  {
   "cell_type": "markdown",
   "metadata": {},
   "source": [
    "# python_tcp\n",
    "\n",
    "> A step-by-step TCP server/client implementation for educational purposes"
   ]
  },
  {
   "cell_type": "markdown",
   "metadata": {},
   "source": [
    "## Overview\n",
    "\n",
    "This package demonstrates how a TCP client/server architecture works by providing a transparent, educational implementation using Python's socket module. It's built with `nbdev` to combine code, documentation, and examples in a single place, making it an excellent learning resource."
   ]
  },
  {
   "cell_type": "markdown",
   "metadata": {},
   "source": [
    "## Install\n",
    "\n",
    "```bash\n",
    "pip install python_tcp\n",
    "```"
   ]
  },
  {
   "cell_type": "markdown",
   "metadata": {},
   "source": [
    "## How to use\n",
    "\n",
    "Here's a simple example of a TCP echo server and client:\n"
   ]
  },
  {
   "cell_type": "code",
   "execution_count": null,
   "metadata": {},
   "outputs": [
    {
     "name": "stdout",
     "output_type": "stream",
     "text": [
      "Server started on 127.0.0.1:8000\n",
      "Connecting to 127.0.0.1:8000...\n",
      "New connection from 127.0.0.1:34062 (ID: e1850ccc-b18d-4764-b925-5850a0f64bdd)\n",
      "Connected to 127.0.0.1:8000\n",
      "Received from e1850ccc-b18d-4764-b925-5850a0f64bdd: Hello, TCP world!\n",
      "Received: Hello, TCP world!\n",
      "Connection closed\n",
      "Connection client-connection: ESTABLISHED -> CLOSED\n",
      "Connection e1850ccc-b18d-4764-b925-5850a0f64bdd: ESTABLISHED -> CLOSED\n",
      "Connection e1850ccc-b18d-4764-b925-5850a0f64bdd closed\n",
      "Server socket closed\n",
      "Connection e1850ccc-b18d-4764-b925-5850a0f64bdd: CLOSED -> CLOSED\n",
      "Connection e1850ccc-b18d-4764-b925-5850a0f64bdd closed\n",
      "Server stopped\n"
     ]
    }
   ],
   "source": [
    "from python_tcp.server import TCPServer\n",
    "from python_tcp.client import TCPClient\n",
    "import time\n",
    "\n",
    "# Start a server\n",
    "server = TCPServer(port=8000)\n",
    "server.start()\n",
    "\n",
    "# Connect with a client\n",
    "client = TCPClient()\n",
    "client.connect('127.0.0.1', 8000)\n",
    "\n",
    "# Send a message\n",
    "client.send(b\"Hello, TCP world!\")\n",
    "\n",
    "# Receive the response\n",
    "response = client.receive()\n",
    "print(f\"Received: {response.decode('utf-8')}\")\n",
    "\n",
    "# Clean up\n",
    "client.close()\n",
    "server.stop()"
   ]
  },
  {
   "cell_type": "markdown",
   "metadata": {},
   "source": [
    "## Understanding TCP\n",
    "\n",
    "TCP (Transmission Control Protocol) is a connection-oriented protocol that ensures reliable data delivery. This project demonstrates key TCP concepts:\n",
    "\n",
    "### The Three-Way Handshake\n",
    "\n",
    "When establishing a connection, TCP uses a three-way handshake:\n",
    "\n",
    "1. **SYN**: Client sends a SYN packet with sequence number x\n",
    "2. **SYN-ACK**: Server responds with SYN-ACK (sequence y, acknowledgment x+1)\n",
    "3. **ACK**: Client sends ACK (acknowledgment y+1)\n",
    "\n",
    "### TCP Socket States\n",
    "\n",
    "TCP sockets go through various states:\n",
    "- CLOSED\n",
    "- LISTEN (server waiting for connections)\n",
    "- SYN_SENT (client initiated connection request)\n",
    "- SYN_RECEIVED (server received SYN)\n",
    "- ESTABLISHED (connection active)\n",
    "- FIN_WAIT (connection termination initiated)\n",
    "- CLOSE_WAIT (waiting for application to close)\n",
    "- TIME_WAIT (waiting for network cleanup)\n",
    "\n",
    "Our implementation tracks and demonstrates these states."
   ]
  },
  {
   "cell_type": "markdown",
   "metadata": {},
   "source": [
    "## Implementation Notes\n",
    "\n",
    "This project takes care to avoid common pitfalls when using the socket library:\n",
    "\n",
    "1. **Naming conflicts**: We use different attribute names (like `sock` instead of `socket`) to avoid confusion with the module name\n",
    "2. **Socket cleanup**: We ensure proper socket closure in all scenarios, including error conditions\n",
    "3. **Thread safety**: Our multithreaded design includes proper synchronization\n",
    "4. **Error handling**: Comprehensive error handling for network operations\n",
    "\n",
    "## Project Components\n",
    "\n",
    "This project contains several components:\n",
    "\n",
    "1. **Core**: Basic TCP types and utilities\n",
    "2. **Server**: TCP server implementations with various features\n",
    "3. **Client**: TCP client implementations with various features\n",
    "4. **Examples**: Practical demonstrations\n",
    "5. **Chat Application**: A complete TCP-based chat application\n",
    "\n",
    "## Server Types\n",
    "\n",
    "We provide several server implementations:\n",
    "\n",
    "1. **TCPServer**: Basic TCP server that echoes messages\n",
    "2. **EnhancedTCPServer**: Server with custom message handling\n",
    "3. **EventDrivenTCPServer**: Server with event callbacks\n",
    "\n",
    "## Client Types\n",
    "\n",
    "The client implementations mirror the server capabilities:\n",
    "\n",
    "1. **TCPClient**: Basic TCP client \n",
    "2. **AsyncTCPClient**: Client with asynchronous message reception\n",
    "3. **EventDrivenTCPClient**: Client with event callbacks\n",
    "\n",
    "## Educational Focus\n",
    "\n",
    "This package is designed for educational purposes to understand:\n",
    "\n",
    "- How TCP connections are established and closed\n",
    "- The client/server model\n",
    "- Socket programming\n",
    "- Event-driven networking\n",
    "- Asynchronous I/O\n",
    "\n",
    "Each component includes detailed documentation explaining the underlying TCP concepts.\n",
    "\n",
    "## Limitations\n",
    "\n",
    "As an educational tool, this implementation has some limitations:\n",
    "\n",
    "- Not optimized for production use\n",
    "- Limited error handling compared to production libraries\n",
    "- No support for TLS/SSL\n",
    "- No support for IPv6\n",
    "\n",
    "## Alternative Libraries\n",
    "\n",
    "For production use, consider:\n",
    "\n",
    "- `asyncio`: Python's built-in asynchronous I/O library\n",
    "- `socketserver`: Python's standard library for creating network servers\n",
    "- `twisted`: Event-driven networking engine\n",
    "- `tornado`: Web framework and asynchronous networking library"
   ]
  },
  {
   "cell_type": "markdown",
   "metadata": {},
   "source": [
    "## Developer Guide"
   ]
  },
  {
   "cell_type": "markdown",
   "metadata": {},
   "source": [
    "If you are new to using `nbdev` here are some useful pointers to get you started."
   ]
  },
  {
   "cell_type": "markdown",
   "metadata": {},
   "source": [
    "### Install python_tcp in Development mode"
   ]
  },
  {
   "cell_type": "markdown",
   "metadata": {},
   "source": [
    "```sh\n",
    "# make sure python_tcp package is installed in development mode\n",
    "$ pip install -e .\n",
    "\n",
    "# make changes under nbs/ directory\n",
    "# ...\n",
    "\n",
    "# compile to have changes apply to python_tcp\n",
    "$ nbdev_prepare\n",
    "```"
   ]
  },
  {
   "cell_type": "markdown",
   "metadata": {},
   "source": [
    "## Usage"
   ]
  },
  {
   "cell_type": "markdown",
   "metadata": {},
   "source": [
    "### Installation"
   ]
  },
  {
   "cell_type": "markdown",
   "metadata": {},
   "source": [
    "Install latest from the GitHub [repository][repo]:\n",
    "\n",
    "```sh\n",
    "$ pip install git+https://github.com/Matthew-Redrup/python-tcp.git\n",
    "```\n",
    "\n",
    "or from [conda][conda]\n",
    "\n",
    "```sh\n",
    "$ conda install -c Matthew-Redrup python_tcp\n",
    "```\n",
    "\n",
    "or from [pypi][pypi]\n",
    "\n",
    "\n",
    "```sh\n",
    "$ pip install python_tcp\n",
    "```\n",
    "\n",
    "\n",
    "[repo]: https://github.com/Matthew-Redrup/python-tcp\n",
    "[docs]: https://Matthew-Redrup.github.io/python-tcp/\n",
    "[pypi]: https://pypi.org/project/python-tcp/\n",
    "[conda]: https://anaconda.org/Matthew-Redrup/python-tcp"
   ]
  },
  {
   "cell_type": "markdown",
   "metadata": {},
   "source": [
    "### Documentation"
   ]
  },
  {
   "cell_type": "markdown",
   "metadata": {},
   "source": [
    "Documentation can be found hosted on this GitHub [repository][repo]'s [pages][docs]. Additionally you can find package manager specific guidelines on [conda][conda] and [pypi][pypi] respectively.\n",
    "\n",
    "[repo]: https://github.com/Matthew-Redrup/python-tcp\n",
    "[docs]: https://Matthew-Redrup.github.io/python-tcp/\n",
    "[pypi]: https://pypi.org/project/python-tcp/\n",
    "[conda]: https://anaconda.org/Matthew-Redrup/python-tcp"
   ]
  }
 ],
 "metadata": {
  "kernelspec": {
   "display_name": "python3",
   "language": "python",
   "name": "python3"
  }
 },
 "nbformat": 4,
 "nbformat_minor": 4
}
