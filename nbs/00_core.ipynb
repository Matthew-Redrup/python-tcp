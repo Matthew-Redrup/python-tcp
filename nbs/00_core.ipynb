{
 "cells": [
  {
   "cell_type": "markdown",
   "metadata": {},
   "source": [
    "# core\n",
    "\n",
    "> A step-by-step explanation of TCP and implementation using Python's socket module"
   ]
  },
  {
   "cell_type": "code",
   "execution_count": null,
   "metadata": {},
   "outputs": [],
   "source": [
    "#| default_exp core"
   ]
  },
  {
   "cell_type": "markdown",
   "metadata": {},
   "source": [
    "## Introduction to TCP\n",
    "\n",
    "The Transmission Control Protocol (TCP) is one of the main protocols of the Internet protocol suite. It provides reliable, ordered, and error-checked delivery of a stream of bytes between applications running on hosts communicating via an IP network.\n",
    "\n",
    "TCP is:\n",
    "- **Connection-oriented**: A connection is established before data is sent\n",
    "- **Reliable**: It guarantees delivery of data to the destination\n",
    "- **Ordered**: If packets arrive in the wrong order, TCP reorders them\n",
    "- **Error-checked**: Corrupted packets are retransmitted\n",
    "\n",
    "## The Three-Way Handshake\n",
    "\n",
    "TCP establishes a connection through a process called the three-way handshake:\n",
    "\n",
    "1. **SYN**: Client sends a SYN (synchronize) packet with a random sequence number `x`\n",
    "2. **SYN-ACK**: Server responds with a SYN-ACK packet with its own sequence number `y` and acknowledgment number `x+1`\n",
    "3. **ACK**: Client sends an ACK packet with acknowledgment number `y+1` to establish the connection"
   ]
  },
  {
   "cell_type": "code",
   "execution_count": null,
   "metadata": {},
   "outputs": [],
   "source": [
    "#| hide_input\n",
    "from IPython.display import SVG\n",
    "from IPython.display import display"
   ]
  },
  {
   "cell_type": "code",
   "execution_count": null,
   "metadata": {},
   "outputs": [
    {
     "data": {
      "image/svg+xml": [
       "<svg xmlns=\"http://www.w3.org/2000/svg\" width=\"500\" height=\"300\">\n",
       "    <rect width=\"100%\" height=\"100%\" fill=\"white\"/>\n",
       "    \n",
       "    <!-- Entities -->\n",
       "    <rect x=\"50\" y=\"20\" width=\"100\" height=\"50\" fill=\"lightblue\" stroke=\"black\"/>\n",
       "    <text x=\"100\" y=\"50\" text-anchor=\"middle\">Client</text>\n",
       "    <rect x=\"350\" y=\"20\" width=\"100\" height=\"50\" fill=\"lightgreen\" stroke=\"black\"/>\n",
       "    <text x=\"400\" y=\"50\" text-anchor=\"middle\">Server</text>\n",
       "    \n",
       "    <!-- Lines -->\n",
       "    <line x1=\"100\" y1=\"70\" x2=\"100\" y2=\"280\" stroke=\"gray\" stroke-dasharray=\"5,5\"/>\n",
       "    <line x1=\"400\" y1=\"70\" x2=\"400\" y2=\"280\" stroke=\"gray\" stroke-dasharray=\"5,5\"/>\n",
       "    \n",
       "    <!-- Arrows -->\n",
       "    <line x1=\"100\" y1=\"120\" x2=\"380\" y2=\"150\" stroke=\"black\" stroke-width=\"2\"/>\n",
       "    <polygon points=\"380,150 370,145 370,155\" fill=\"black\"/>\n",
       "    <text x=\"240\" y=\"125\" text-anchor=\"middle\">SYN (seq=x)</text>\n",
       "    \n",
       "    <line x1=\"400\" y1=\"180\" x2=\"120\" y2=\"210\" stroke=\"black\" stroke-width=\"2\"/>\n",
       "    <polygon points=\"120,210 130,205 130,215\" fill=\"black\"/>\n",
       "    <text x=\"260\" y=\"185\" text-anchor=\"middle\">SYN-ACK (seq=y, ack=x+1)</text>\n",
       "    \n",
       "    <line x1=\"100\" y1=\"240\" x2=\"380\" y2=\"270\" stroke=\"black\" stroke-width=\"2\"/>\n",
       "    <polygon points=\"380,270 370,265 370,275\" fill=\"black\"/>\n",
       "    <text x=\"240\" y=\"245\" text-anchor=\"middle\">ACK (ack=y+1)</text>\n",
       "</svg>"
      ],
      "text/plain": [
       "<IPython.core.display.SVG object>"
      ]
     },
     "metadata": {},
     "output_type": "display_data"
    }
   ],
   "source": [
    "svg_data = '''\n",
    "<svg width=\"500\" height=\"300\" xmlns=\"http://www.w3.org/2000/svg\">\n",
    "    <rect width=\"100%\" height=\"100%\" fill=\"white\"/>\n",
    "    \n",
    "    <!-- Entities -->\n",
    "    <rect x=\"50\" y=\"20\" width=\"100\" height=\"50\" fill=\"lightblue\" stroke=\"black\"/>\n",
    "    <text x=\"100\" y=\"50\" text-anchor=\"middle\">Client</text>\n",
    "    <rect x=\"350\" y=\"20\" width=\"100\" height=\"50\" fill=\"lightgreen\" stroke=\"black\"/>\n",
    "    <text x=\"400\" y=\"50\" text-anchor=\"middle\">Server</text>\n",
    "    \n",
    "    <!-- Lines -->\n",
    "    <line x1=\"100\" y1=\"70\" x2=\"100\" y2=\"280\" stroke=\"gray\" stroke-dasharray=\"5,5\"/>\n",
    "    <line x1=\"400\" y1=\"70\" x2=\"400\" y2=\"280\" stroke=\"gray\" stroke-dasharray=\"5,5\"/>\n",
    "    \n",
    "    <!-- Arrows -->\n",
    "    <line x1=\"100\" y1=\"120\" x2=\"380\" y2=\"150\" stroke=\"black\" stroke-width=\"2\"/>\n",
    "    <polygon points=\"380,150 370,145 370,155\" fill=\"black\"/>\n",
    "    <text x=\"240\" y=\"125\" text-anchor=\"middle\">SYN (seq=x)</text>\n",
    "    \n",
    "    <line x1=\"400\" y1=\"180\" x2=\"120\" y2=\"210\" stroke=\"black\" stroke-width=\"2\"/>\n",
    "    <polygon points=\"120,210 130,205 130,215\" fill=\"black\"/>\n",
    "    <text x=\"260\" y=\"185\" text-anchor=\"middle\">SYN-ACK (seq=y, ack=x+1)</text>\n",
    "    \n",
    "    <line x1=\"100\" y1=\"240\" x2=\"380\" y2=\"270\" stroke=\"black\" stroke-width=\"2\"/>\n",
    "    <polygon points=\"380,270 370,265 370,275\" fill=\"black\"/>\n",
    "    <text x=\"240\" y=\"245\" text-anchor=\"middle\">ACK (ack=y+1)</text>\n",
    "</svg>\n",
    "'''\n",
    "\n",
    "display(SVG(data=svg_data))"
   ]
  },
  {
   "cell_type": "markdown",
   "metadata": {},
   "source": [
    "## Socket API in Python\n",
    "\n",
    "Python's `socket` module provides a simple API for creating TCP connections. Here are the key elements we'll use:"
   ]
  },
  {
   "cell_type": "code",
   "execution_count": null,
   "metadata": {},
   "outputs": [],
   "source": [
    "#| export\n",
    "import socket\n",
    "from dataclasses import dataclass\n",
    "from typing import Optional, List, Tuple, Dict, Any, Union\n",
    "import threading\n",
    "import time"
   ]
  },
  {
   "cell_type": "markdown",
   "metadata": {},
   "source": [
    "We will create a simplified wrapper around Python's socket API to make it easier to understand TCP concepts."
   ]
  },
  {
   "cell_type": "code",
   "execution_count": null,
   "metadata": {},
   "outputs": [],
   "source": [
    "#| export\n",
    "def get_free_port() -> int:\n",
    "    \"\"\"Get an available port number by creating and closing a temporary socket.\"\"\"\n",
    "    with socket.socket(socket.AF_INET, socket.SOCK_STREAM) as s:\n",
    "        s.bind(('', 0))\n",
    "        return s.getsockname()[1]"
   ]
  },
  {
   "cell_type": "markdown",
   "metadata": {},
   "source": [
    "Let's define some constants for our implementation:"
   ]
  },
  {
   "cell_type": "code",
   "execution_count": null,
   "metadata": {},
   "outputs": [],
   "source": [
    "#| export\n",
    "LOCALHOST = '127.0.0.1'\n",
    "DEFAULT_BUFFER_SIZE = 1024\n",
    "DEFAULT_BACKLOG = 5  # Maximum number of queued connections"
   ]
  },
  {
   "cell_type": "markdown",
   "metadata": {},
   "source": [
    "## Socket State Information\n",
    "\n",
    "TCP sockets go through various states during their lifecycle:\n",
    "\n",
    "- **CLOSED**: No connection\n",
    "- **LISTEN**: Server is waiting for incoming connections\n",
    "- **SYN_SENT**: Client has sent SYN packet\n",
    "- **SYN_RECEIVED**: Server has received SYN and sent SYN-ACK\n",
    "- **ESTABLISHED**: Connection is established\n",
    "- **FIN_WAIT**: Connection termination in progress\n",
    "- **CLOSE_WAIT**: Waiting for application to close\n",
    "- **CLOSING**: Both sides have initiated connection termination\n",
    "- **TIME_WAIT**: Waiting to ensure remote TCP received connection termination\n",
    "- **LAST_ACK**: Waiting for last acknowledgement\n",
    "\n",
    "We'll create utility functions to help us track these states in our implementation."
   ]
  },
  {
   "cell_type": "code",
   "execution_count": null,
   "metadata": {},
   "outputs": [],
   "source": [
    "#| export\n",
    "# Socket states\n",
    "class SocketState:\n",
    "    \"\"\"Constants for socket states.\"\"\"\n",
    "    CLOSED = \"CLOSED\"\n",
    "    LISTEN = \"LISTEN\"\n",
    "    SYN_SENT = \"SYN_SENT\"\n",
    "    SYN_RECEIVED = \"SYN_RECEIVED\"\n",
    "    ESTABLISHED = \"ESTABLISHED\"\n",
    "    FIN_WAIT_1 = \"FIN_WAIT_1\"\n",
    "    FIN_WAIT_2 = \"FIN_WAIT_2\"\n",
    "    CLOSE_WAIT = \"CLOSE_WAIT\"\n",
    "    CLOSING = \"CLOSING\"\n",
    "    LAST_ACK = \"LAST_ACK\"\n",
    "    TIME_WAIT = \"TIME_WAIT\""
   ]
  },
  {
   "cell_type": "markdown",
   "metadata": {},
   "source": [
    "Now let's define a basic connection structure that will help us manage TCP connections:"
   ]
  },
  {
   "cell_type": "code",
   "execution_count": null,
   "metadata": {},
   "outputs": [],
   "source": [
    "#| export\n",
    "@dataclass\n",
    "class TCPConnection:\n",
    "    \"\"\"Represents a TCP connection with state information.\"\"\"\n",
    "    socket: Optional[object] = None\n",
    "    state: str = SocketState.CLOSED\n",
    "    remote_address: Optional[Tuple[str, int]] = None\n",
    "    connection_id: Optional[str] = None\n",
    "    \n",
    "    def __str__(self) -> str:\n",
    "        addr = f\"{self.remote_address[0]}:{self.remote_address[1]}\" if self.remote_address else \"None\"\n",
    "        return f\"Connection[{self.connection_id or 'unknown'}] to {addr} (state: {self.state})\"\n",
    "    \n",
    "    def update_state(self, new_state: str) -> None:\n",
    "        \"\"\"Update connection state with logging.\"\"\"\n",
    "        prev_state = self.state\n",
    "        self.state = new_state\n",
    "        # Normally we'd log this state transition\n",
    "        print(f\"Connection {self.connection_id}: {prev_state} -> {self.state}\")"
   ]
  },
  {
   "cell_type": "markdown",
   "metadata": {},
   "source": [
    "## TCP Connection Lifecycle\n",
    "\n",
    "A TCP connection goes through the following phases:\n",
    "1. Connection establishment (three-way handshake)\n",
    "2. Data transfer\n",
    "3. Connection termination (four-way handshake)\n",
    "\n",
    "In our implementation, we'll focus on making these phases explicit and easy to understand."
   ]
  },
  {
   "cell_type": "code",
   "execution_count": null,
   "metadata": {},
   "outputs": [],
   "source": [
    "#| hide\n",
    "import nbdev; nbdev.nbdev_export()"
   ]
  }
 ],
 "metadata": {
  "kernelspec": {
   "display_name": "python3",
   "language": "python",
   "name": "python3"
  }
 },
 "nbformat": 4,
 "nbformat_minor": 4
}
